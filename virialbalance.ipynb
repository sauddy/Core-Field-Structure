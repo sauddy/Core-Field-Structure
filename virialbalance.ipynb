{
 "cells": [
  {
   "cell_type": "code",
   "execution_count": 1,
   "metadata": {
    "collapsed": true
   },
   "outputs": [],
   "source": [
    "## testing the virial equilibrium ## \n",
    "import numpy as np\n",
    "import matplotlib.pyplot as plt\n",
    "plt.rc('text',usetex=True)\n",
    "from decimal import Decimal # to print in scientific notation\n",
    "import os.path\n",
    "import scipy.integrate as integrate"
   ]
  },
  {
   "cell_type": "code",
   "execution_count": 2,
   "metadata": {
    "collapsed": true
   },
   "outputs": [],
   "source": [
    "# parameters that are needed.\n",
    "distinpc = 120.0\n",
    "pc = 3.0857e+18 # cm \n",
    "AU = 1.496e+13  # cm\n",
    "amu = 1.6605402e-24 # g\n",
    "mu = 2.33*amu\n",
    "mperH2= 2.8* amu\n",
    "Msun=1.9891e+33 # g\n",
    "G = 6.67259e-8 # cm3 g-1 s-2"
   ]
  },
  {
   "cell_type": "code",
   "execution_count": 3,
   "metadata": {
    "collapsed": false
   },
   "outputs": [
    {
     "name": "stdout",
     "output_type": "stream",
     "text": [
      "[ 0.00290888  0.00872665  0.01454442  0.02036219  0.02617996  0.03199772\n",
      "  0.03781549  0.04363326  0.04945103  0.0552688   0.06108656  0.06690433\n",
      "  0.0727221   0.07853987  0.08435764]\n"
     ]
    }
   ],
   "source": [
    "## read the data file in fp\n",
    "fileName = \"./data_sigma/H-MM1_sigmav.dat\"\n",
    "fp = open (fileName,'r')\n",
    "## Declaring an empty list to store the data from the .dat file\n",
    "radius1_list = []  # units cm \n",
    "vthermal_list= []      # units cm^{-3}\n",
    "vnontherma_list = []\n",
    "\n",
    "## Reading the data from a .dat file line by line\n",
    "for line in fp:\n",
    "    t = line.strip().split()  \n",
    "    radius1_list.append(float(t[0]))\n",
    "    vthermal_list.append(float(t[1]))\n",
    "    vnontherma_list.append(float(t[2])) \n",
    "    \n",
    "fp.close()  \n",
    "vthermal = np.asarray(vthermal_list)\n",
    "vnonthermal = np.asarray(vnontherma_list)\n",
    "radiusinpc = np.asarray(radius1_list)*distinpc*4.84814e-6 # in pc\n",
    "print(radiusinpc)"
   ]
  },
  {
   "cell_type": "code",
   "execution_count": 4,
   "metadata": {
    "collapsed": false
   },
   "outputs": [],
   "source": [
    "def realmassforanyindexforvirialanalysis(radiusinpc,r_flatinpc,n_0,index,i):\n",
    "    '''\n",
    "    \n",
    "    Modified from the mass-to-flux script on 10 september\n",
    "    \n",
    "    This function numerically evaluates the mass of the sphere.\n",
    "    Input are:\n",
    "    radiusinpc[i] = radius as which the mass is required \n",
    "    r_c = is the transonic radius \"Note radius radiusinpc[i] can not be more than r_c \"\n",
    "    r_flatinpc  = r_0 or  r_flat in pc\n",
    "    n_0 = n0 or nflat in cm^-3\n",
    "    i indicate the value in the radiusinpc array\n",
    "    index =  the power of the density function\n",
    "    \n",
    "    mass = 2 pi mu (numerical integral)\n",
    "    ### Important to note that this gives mass in grams ###\n",
    "    '''\n",
    "    \n",
    "    import numpy as np\n",
    "    from scipy import integrate\n",
    "    def f(r):\n",
    "        amu = 1.6605402e-24 # g\n",
    "        mu = 2.33*amu\n",
    "        r0 = r_flatinpc* 3.0857e+18\n",
    "        n0 =  n_0\n",
    "        constant = 4 * np.pi * mu\n",
    "        density = (n0/(1+(r/r0)**2)**index)\n",
    "        return (constant * r**2 *density) \n",
    "    \n",
    "    r2 = radiusinpc *3.0857e+18  # this is the radius at which we want the mass\n",
    " \n",
    "    def bounds_r():\n",
    "        return [0, r2[i]]\n",
    "\n",
    "    result = integrate.nquad(f, [bounds_r])\n",
    "    return (result[0]) #  mass in grams "
   ]
  },
  {
   "cell_type": "code",
   "execution_count": 5,
   "metadata": {
    "collapsed": false
   },
   "outputs": [
    {
     "name": "stdout",
     "output_type": "stream",
     "text": [
      "[5.0, 15.0, 25.0, 35.0, 45.0, 55.0, 65.0, 75.0, 85.0, 95.0, 105.0, 115.0, 125.0, 135.0, 145.0]\n"
     ]
    }
   ],
   "source": [
    "print(radius1_list)"
   ]
  },
  {
   "cell_type": "code",
   "execution_count": 6,
   "metadata": {
    "collapsed": false
   },
   "outputs": [
    {
     "name": "stdout",
     "output_type": "stream",
     "text": [
      "0.012\n",
      "[ 9.92203373  1.49113198  0.83854362  0.67311956  0.62383304  0.61476619\n",
      "  0.68421532  0.69859674  0.76776131  0.79531082  0.74941709  0.65890922\n",
      "  0.82605996  0.77430737  0.72614463] [0.009590822293537906, 0.00050147533860637, 0.00017279430097898028, 0.0001593578506022167, 0.00025657382091381014, 0.0005804013559258344, 0.0024684752368079868, 0.013252174635302481, 0.011045466874606679, 0.009652793688142964, 0.006590300082170343, 0.026793819097207527, 0.06409923581674744, 0.03288185401292219, 0.017323348327734762]\n",
      "[ 0.00450301  0.08983285  0.27429278  0.49753186  0.72426167  0.94184236\n",
      "  1.14689055  1.33928167  1.51993866  1.69003826  1.85073234  2.00305929\n",
      "  2.14792594  2.28611483  2.41829907]\n"
     ]
    }
   ],
   "source": [
    "'''\n",
    "Case 1 : K / Ug = Kinetic energy / Potential energy \n",
    "                (sigma_nt**2 + sigma_t**2)/ (3/5 (GM/R))\n",
    "'''\n",
    "\n",
    "# n_0 = 7.4e+05 # cm-3\n",
    "n_0 = 8.0e+05\n",
    "# r_flat= 0.0139    # in Pc \n",
    "r_flat= 0.012\n",
    "\n",
    "# index = 1.38      # is the power of the power profile\n",
    "index = 1.33\n",
    "rc = 0.05\n",
    "nc = n_0/(1+(rc/r_flat)**2)**index\n",
    "print(r_flat)\n",
    "realmass_list = []\n",
    "virial_list = []\n",
    "virial_NT_list = []\n",
    "parameter_list = []\n",
    "for i in range(0,len(radiusinpc)):\n",
    "    m = realmassforanyindexforvirialanalysis(radiusinpc,r_flat,n_0,index,i)\n",
    "    realmass_list.append(float(m))\n",
    "    kinetic = m * (vnonthermal[i]**2+ vthermal[i]**2)*10**4  # to make sigma in cm**2/s\n",
    "    kinetic_NT = m * (vnonthermal[i]**2)*10**4  # to make sigma in cm**2/s\n",
    "    potential = (3/5) * G * m**2 / (radiusinpc[i]*3.0857e+18)\n",
    "    \n",
    "    virial = kinetic/potential\n",
    "    virial_NT = kinetic_NT/potential\n",
    "    \n",
    "    virial_list.append(float(virial))\n",
    "    virial_NT_list.append(float(virial_NT))\n",
    "    \n",
    "    parameter_withvirialequilibrium  = vnonthermal[i]**2/(vnonthermal[i]**2+ vthermal[i]**2)\n",
    "    parameter_list.append(float(parameter_withvirialequilibrium))\n",
    "\n",
    "virialparameter = np.asarray(virial_list)  \n",
    "virial_NTparameter= np.asarray(virial_NT_list)\n",
    "parameter = np.asarray(parameter_list)\n",
    "print(virialparameter,virial_NT_list)    \n",
    "print(np.array(realmass_list)/Msun)"
   ]
  },
  {
   "cell_type": "code",
   "execution_count": 7,
   "metadata": {
    "collapsed": false
   },
   "outputs": [
    {
     "data": {
      "image/png": "[encoded data removed]",
      "text/plain": [
       "<matplotlib.figure.Figure at 0x10af96ba8>"
      ]
     },
     "metadata": {},
     "output_type": "display_data"
    },
    {
     "data": {
      "image/png": "[encoded data removed]",
      "text/plain": [
       "<matplotlib.figure.Figure at 0x10b282390>"
      ]
     },
     "metadata": {},
     "output_type": "display_data"
    },
    {
     "data": {
      "image/png": "[encoded data removed]",
      "text/plain": [
       "<matplotlib.figure.Figure at 0x10ed8ac50>"
      ]
     },
     "metadata": {},
     "output_type": "display_data"
    }
   ],
   "source": [
    "plt.scatter(radiusinpc[1:],virialparameter[1:])\n",
    "plt.axvline(x=0.05,linewidth=0.4,color='k',ls=':')\n",
    "plt.axhline(y=1,linewidth=0.4,color='k',ls=':')\n",
    "plt.xlabel('radius in pc')\n",
    "plt.ylabel(r'$K/U_{G}$', fontsize=15)\n",
    "plt.show()\n",
    "plt.scatter(radiusinpc[1:],virial_NTparameter[1:])\n",
    "plt.axvline(x=0.05,linewidth=0.4,color='k',ls=':')\n",
    "plt.axhline(y=1,linewidth=0.4,color='k',ls=':')\n",
    "plt.xlabel('radius in pc')\n",
    "plt.ylabel(r'$K_{NT}/U_{G}$', fontsize=15)\n",
    "plt.show()\n",
    "# with virial equilibrium assumption : \n",
    "plt.scatter(radiusinpc[1:],parameter[1:])\n",
    "plt.axvline(x=0.05,linewidth=0.4,color='k',ls=':')\n",
    "plt.axhline(y=1,linewidth=0.4,color='k',ls=':')\n",
    "plt.xlabel('radius in pc')\n",
    "plt.ylabel(r'$K_{NT}/U_{G}$', fontsize=15)\n",
    "plt.show()"
   ]
  },
  {
   "cell_type": "code",
   "execution_count": 8,
   "metadata": {
    "collapsed": false
   },
   "outputs": [
    {
     "name": "stdout",
     "output_type": "stream",
     "text": [
      "24589.09 19506.514150075942 3.869058666e-24\n",
      "4.7892761060574745e-05\n"
     ]
    }
   ],
   "source": [
    "### estimate of the magnetic energy density with gravity and  kinetic energy ##\n",
    "n_0 = 7.4e+05 # cm-3\n",
    "r_flat= 0.0139    # in Pc \n",
    "index = 1.38      # is the power of the power profile\n",
    "rc = 0.05\n",
    "nc = n_0/(1+(rc/r_flat)**2)**index\n",
    "\n",
    "sigma_NT_C = 24589.090\n",
    "beta = 1/2\n",
    "n =  n_0/(1+(radiusinpc/r_flat)**2)**index\n",
    "print(sigma_NT_C,nc,mu)\n",
    "B_cc = (sigma_NT_C  *(4* np.pi*mu* nc)**(.5))/beta\n",
    "print(B_cc)"
   ]
  },
  {
   "cell_type": "code",
   "execution_count": 9,
   "metadata": {
    "collapsed": false
   },
   "outputs": [],
   "source": [
    "# magnetic field profile in micro gauss * 10^6\n",
    "B = (B_cc *(n/nc)**(2/3))*10**6 \n",
    "B1= (B_cc *(n/nc)**(1/2))*10**6 "
   ]
  },
  {
   "cell_type": "code",
   "execution_count": 10,
   "metadata": {
    "collapsed": false
   },
   "outputs": [
    {
     "data": {
      "image/png": "[encoded data removed]",
      "text/plain": [
       "<matplotlib.figure.Figure at 0x10afa3a58>"
      ]
     },
     "metadata": {},
     "output_type": "display_data"
    },
    {
     "name": "stdout",
     "output_type": "stream",
     "text": [
      "398.295511829\n"
     ]
    }
   ],
   "source": [
    "plt.plot(radiusinpc,B)\n",
    "plt.show()\n",
    "print(B[1])"
   ]
  },
  {
   "cell_type": "code",
   "execution_count": 11,
   "metadata": {
    "collapsed": false
   },
   "outputs": [
    {
     "name": "stdout",
     "output_type": "stream",
     "text": [
      "5.521489839492012e+33\n"
     ]
    }
   ],
   "source": [
    "kineticenergy = []\n",
    "kineticnonthermal = []\n",
    "potentialenergy = []\n",
    "magneticenergy = []\n",
    "\n",
    "for i in range(0,len(radiusinpc)):\n",
    "    m = realmassforanyindexforvirialanalysis(radiusinpc,r_flat,n_0,index,i)\n",
    "    realmass_list.append(float(m))\n",
    "    kinetic = m * (vnonthermal[i]**2+ vthermal[i]**2)*10**4  # to make sigma in cm**2/s\n",
    "    kineticenergy.append(float(kinetic))\n",
    "    kinetic_NT = m * (vnonthermal[i]**2)*10**4  # to make sigma in cm**2/s\n",
    "    kineticnonthermal.append(float(kinetic_NT))\n",
    "    potential = (3/5) * G * m**2 / (radiusinpc[i]*3.0857e+18)\n",
    "    potentialenergy.append(potential)\n",
    "    magnetic = ((B1[i]*10**-6)**2 *(radiusinpc[i]*3.0857e+18)**3) / 6\n",
    "    magneticenergy.append(magnetic)\n",
    "print(m)    \n",
    "#     print(magneticenergy)\n",
    "#     print(potential)\n",
    "#     print(kinetic)\n",
    "#     equilibrium1 = magneticenergy/potential\n",
    "#     print(equilibrium1)"
   ]
  },
  {
   "cell_type": "code",
   "execution_count": 12,
   "metadata": {
    "collapsed": false
   },
   "outputs": [
    {
     "name": "stdout",
     "output_type": "stream",
     "text": [
      "[9.885347639028179e+39, 1.7901766182322713e+41, 4.7249110232386062e+41, 7.3973773311185411e+41, 9.4557791391011869e+41, 1.1011515242624105e+42, 1.2215477472737785e+42, 1.3177992467837239e+42, 1.3971715924310609e+42, 1.4644013471159334e+42, 1.5226311719053883e+42, 1.5740009014983967e+42, 1.6200080080822228e+42, 1.6617284019858744e+42, 1.6999541884688421e+42]\n"
     ]
    }
   ],
   "source": [
    "print(magneticenergy)"
   ]
  },
  {
   "cell_type": "code",
   "execution_count": 13,
   "metadata": {
    "collapsed": false
   },
   "outputs": [
    {
     "data": {
      "image/png": "[encoded data removed]",
      "text/plain": [
       "<matplotlib.figure.Figure at 0x10f091128>"
      ]
     },
     "metadata": {},
     "output_type": "display_data"
    }
   ],
   "source": [
    "plt.plot(radiusinpc,kineticenergy,'k--',label=r'$KE$')\n",
    "plt.plot(radiusinpc,kineticnonthermal,'k-.',label=r'$KE_{NT}$')\n",
    "plt.plot(radiusinpc,potentialenergy,'b',label=r'$PE$')\n",
    "plt.plot(radiusinpc,magneticenergy,'b--',label=r'$B_{ener}$')\n",
    "plt.legend(numpoints=1,fancybox=True,shadow=True,fontsize=11,loc=2)\n",
    "plt.axvline(x=0.05,linewidth=0.4,color='k',ls=':')\n",
    "plt.title('Energy estimate for H-MM1')\n",
    "plt.xlabel('radius in pc')\n",
    "plt.ylabel(r' $ Energy \\, (g cm^{2}s^{-2})$', fontsize=15)\n",
    "plt.savefig(\"enerfyplotH_mm1.eps\",format='eps',dpi=300)\n",
    "plt.show()\n"
   ]
  },
  {
   "cell_type": "code",
   "execution_count": 14,
   "metadata": {
    "collapsed": false
   },
   "outputs": [
    {
     "name": "stdout",
     "output_type": "stream",
     "text": [
      "[ 0.00290888  0.00872665  0.01454442  0.02036219  0.02617996  0.03199772\n",
      "  0.03781549  0.04363326  0.04945103  0.0552688   0.06108656  0.06690433\n",
      "  0.0727221   0.07853987  0.08435764]\n"
     ]
    }
   ],
   "source": [
    "print(radiusinpc)"
   ]
  },
  {
   "cell_type": "code",
   "execution_count": null,
   "metadata": {
    "collapsed": true
   },
   "outputs": [],
   "source": []
  }
 ],
 "metadata": {
  "kernelspec": {
   "display_name": "Python 3",
   "language": "python",
   "name": "python3"
  },
  "language_info": {
   "codemirror_mode": {
    "name": "ipython",
    "version": 3
   },
   "file_extension": ".py",
   "mimetype": "text/x-python",
   "name": "python",
   "nbconvert_exporter": "python",
   "pygments_lexer": "ipython3",
   "version": "3.6.0"
  }
 },
 "nbformat": 4,
 "nbformat_minor": 2
}
