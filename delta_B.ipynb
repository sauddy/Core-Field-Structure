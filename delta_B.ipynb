{
 "cells": [
  {
   "cell_type": "code",
   "execution_count": 1,
   "metadata": {
    "collapsed": true
   },
   "outputs": [],
   "source": [
    "'''\n",
    "This script is to calculate the delta B/ B and delta B\n",
    "\n",
    "Author: Sayantan\n",
    "Date : 5 May 2018\n",
    "\n",
    "Modified : 7 August 2018\n",
    "         : added the error in the variation of rc and \n",
    "         \n",
    "\n",
    "'''\n",
    "\n",
    "import numpy as np\n",
    "import matplotlib.pyplot as plt\n",
    "plt.rc('text',usetex=True)\n",
    "from scipy import optimize\n",
    "from scipy.optimize import fsolve\n",
    "from scipy.interpolate import interp1d\n",
    "from scipy import integrate\n",
    "import os.path\n",
    "from decimal import Decimal # to print in scientific notation\n",
    "import CFS_functions as cfs\n",
    "import function as mf"
   ]
  },
  {
   "cell_type": "code",
   "execution_count": 2,
   "metadata": {
    "collapsed": true
   },
   "outputs": [],
   "source": [
    "# parameters that are needed.\n",
    "distinpc = 120.0\n",
    "pc = 3.0857e+18 # cm \n",
    "AU = 1.496e+13  # cm\n",
    "amu = 1.6605402e-24 # g\n",
    "mu = 2.33*amu\n",
    "mperH2= 2.8* amu\n",
    "Msun=1.9891e+33 # g\n",
    "G = 6.67259e-8 # cm3 g-1 s-2\n",
    "# 1 Gauss = g^(1/2) * cm^{-1/2}* s^-1\n",
    "##"
   ]
  },
  {
   "cell_type": "code",
   "execution_count": 3,
   "metadata": {
    "collapsed": false
   },
   "outputs": [
    {
     "name": "stdout",
     "output_type": "stream",
     "text": [
      "[  2.89347635e+22   1.91541149e+01   4.11330255e-01]\n",
      "[  9.63634013e+20   7.67252448e+00   1.64410235e-01]\n"
     ]
    },
    {
     "data": {
      "image/png": "[encoded data removed]",
      "text/plain": [
       "<matplotlib.figure.Figure at 0x10a242c18>"
      ]
     },
     "metadata": {},
     "output_type": "display_data"
    }
   ],
   "source": [
    "## fitting the plummer type fucntion to the column density profile\n",
    "# fileName = \"./columndensity_data/H-MM1_column_density.dat\"\n",
    "# fileName = \"./columndensity_data/H-MM2_column_density.dat\"\n",
    "# fileName = \"./columndensity_data/OpHCN_column_density.dat\"\n",
    "# fileName = \"./columndensity_data/OpH-C_column_density.dat\"\n",
    "# fileName = \"./columndensity_data/OpH-E_column_density.dat\"\n",
    "# fileName = \"./columndensity_data/OpH-X_column_density.dat\"\n",
    "fileName = \"./columndensity_data/OpHFE_column_density.dat\"\n",
    "radius,columndensity,columndensityerror = cfs.readcolumndensity(fileName)\n",
    "\n",
    "vGuess = [np.max(columndensity),24,1]\n",
    "vPars, aCova = optimize.curve_fit(cfs.plummerfunction, radius, columndensity, vGuess,sigma=columndensityerror,absolute_sigma=True)\n",
    "print(vPars)\n",
    "unc = np.sqrt(np.diag(aCova))\n",
    "print(unc)\n",
    "xFine = np.linspace(radius[0],radius[len(radius)-1], num=100, endpoint=True)\n",
    "plt.errorbar(radius,columndensity,yerr=columndensityerror,lw=0,elinewidth=1,ecolor='b', fmt='ko',markersize=2)\n",
    "plt.plot(xFine, cfs.plummerfunction(xFine,*vPars), 'g-', lw=1) # Fitted parameters\n",
    "plt.xlabel('radius (arcsec)')\n",
    "plt.ylabel(r'column density $cm^{-2}$',fontsize=15)\n",
    "plt.show()"
   ]
  },
  {
   "cell_type": "code",
   "execution_count": 4,
   "metadata": {
    "collapsed": false
   },
   "outputs": [
    {
     "name": "stdout",
     "output_type": "stream",
     "text": [
      "n_flat= 233623.330057 cm-3\n",
      "r_flatinpc= 0.0111434899872\n",
      "index= 0.911330254793\n"
     ]
    },
    {
     "data": {
      "image/png": "[encoded data removed]",
      "text/plain": [
       "<matplotlib.figure.Figure at 0x10e3aec18>"
      ]
     },
     "metadata": {},
     "output_type": "display_data"
    }
   ],
   "source": [
    "### Density Profile\n",
    "n_flat,r_flatinpc,index= cfs.plummerparameter(vPars[0],vPars[1],vPars[2])\n",
    "print(\"n_flat=\",n_flat,\"cm-3\")\n",
    "print(\"r_flatinpc=\",r_flatinpc)\n",
    "print(\"index=\" ,index)\n",
    "radiusinpc = radius*distinpc*AU/pc\n",
    "n = n_flat/(1+(radiusinpc/r_flatinpc)**2)**index \n",
    "outputfilename =  fileName[21]+fileName[22]+fileName[23]+fileName[24]+fileName[25]\n",
    "save_path = './figures/'\n",
    "outputfigureden = os.path.join(save_path, outputfilename + '_density' +\".eps\")\n",
    "ranger1 = max(n)-0.20*max(n)\n",
    "ranger2 = ranger1 -0.08*max(n)\n",
    "ranger3 = ranger2 -0.08*max(n)\n",
    "ranger4 = ranger3 -0.08*max(n)\n",
    "plt.plot(radiusinpc,n,'k--')\n",
    "plt.ylabel(r'$ \\rho \\, (cm^{-3})$', fontsize=15)\n",
    "plt.xlabel(r'r (pc)',fontsize=15)\n",
    "plt.axvline(x=r_flatinpc,linewidth=0.4,color='k',ls=':')\n",
    "plt.text(r_flatinpc,ranger1, 'The fit parameters from the Plummer Model :' )\n",
    "plt.text(r_flatinpc+0.001,ranger2, 'n0=%s   cm-3'% '%.1e' % Decimal(n_flat) )\n",
    "plt.text(r_flatinpc+0.001,ranger3, 'r0=%s   pc'% round(r_flatinpc,3) )\n",
    "plt.text(r_flatinpc+0.001,ranger4, 'index = %s'% round(index,2) )\n",
    "plt.ticklabel_format(axis='y',style='sci',scilimits=(0,2))\n",
    "plt.title(outputfilename +' density profile')\n",
    "# plt.yscale('log')\n",
    "plt.savefig(outputfigureden,format='eps',dpi=300)\n",
    "plt.show()"
   ]
  },
  {
   "cell_type": "code",
   "execution_count": 5,
   "metadata": {
    "collapsed": false
   },
   "outputs": [
    {
     "name": "stdout",
     "output_type": "stream",
     "text": [
      "0.91+/-0.16\n",
      "0.011+/-0.004\n",
      "233623.3300568523 93904.90117668077\n"
     ]
    }
   ],
   "source": [
    "from uncertainties import ufloat\n",
    "eta = ufloat(vPars[2],unc[2])+0.5\n",
    "print(eta)\n",
    "r_fl = ufloat(vPars[1],unc[1])*distinpc*AU\n",
    "# print(r_flat)\n",
    "print(r_fl/pc)\n",
    "def Ap(u):\n",
    "    return 1/ (1+u**2)**index\n",
    "def bounds_u():\n",
    "    return [-2500, 2500]\n",
    "result = integrate.nquad(Ap, [bounds_u])\n",
    "    \n",
    "n_fl=ufloat(vPars[0],unc[0])/r_fl/result[0]\n",
    "print(n_fl.n,n_fl.s)\n",
    "Plummermodel_error = [eta.s,r_fl.s/pc,n_fl.s]"
   ]
  },
  {
   "cell_type": "code",
   "execution_count": 6,
   "metadata": {
    "collapsed": false
   },
   "outputs": [
    {
     "name": "stdout",
     "output_type": "stream",
     "text": [
      "[ 24066.02287225]\n",
      "sigma_NC= [ 24066.02287225] cm/s \n",
      " rc = [ 0.03577663] pc\n",
      "nc= [ 25618.21051019]\n",
      "B_cc = [  5.37175634e-05]  Gauss\n",
      "B1= [ 160.43682504  148.12292483  130.4529803   113.21074442   98.52586002\n",
      "   86.564179     76.89833785   69.03836977   62.57365744   57.18869739\n",
      "   52.64716321   48.77249148   45.4318553 ]\n"
     ]
    }
   ],
   "source": [
    "# reading the saturated radius and the vel disper from file\n",
    "\n",
    "filenametrasonicradius = \"./transonic_data/\" + fileName[21]+fileName[22]+fileName[23]+fileName[24]+fileName[25]+'rt.txt'\n",
    "filenametrasonicsigma  = \"./transonic_data/\" + fileName[21]+fileName[22]+fileName[23]+fileName[24]+fileName[25]+'sigmat.txt'\n",
    "r_cc_file = mf.readfilefortransonicdata(filenametrasonicradius)\n",
    "r_c = np.asarray(r_cc_file)\n",
    "# r_c = np.asarray(80)\n",
    "rc = r_c*distinpc*4.84814e-6 # in pc \n",
    "sigma_NT_C_file = mf.readfilefortransonicdata(filenametrasonicsigma)\n",
    "sigma_NT_C = np.asarray(sigma_NT_C_file)*(10**5)\n",
    "print(sigma_NT_C)\n",
    "print(\"sigma_NC=\",sigma_NT_C,\"cm/s \\n\",\"rc =\",rc,\"pc\")\n",
    "#### magnetic field with error ### \n",
    "# sigma_NT_C = 24589.090\n",
    "# rc = 0.05\n",
    "beta = 0.5\n",
    "nc = n_flat/(1+(rc/r_flatinpc)**2)**index\n",
    "print(\"nc=\",nc)\n",
    "B_cc = (sigma_NT_C  *(4* np.pi*mu* nc)**(.5))/beta\n",
    "\n",
    "print(\"B_cc =\" , B_cc,\" Gauss\")\n",
    "\n",
    "B1= (B_cc *(n/nc)**(1/2))*10**6 \n",
    "print(\"B1=\",B1)\n",
    "B2 = (B_cc *(n/nc)**(2/3))*10**6 "
   ]
  },
  {
   "cell_type": "code",
   "execution_count": 7,
   "metadata": {
    "collapsed": false
   },
   "outputs": [
    {
     "data": {
      "image/png": "[encoded data removed]",
      "text/plain": [
       "<matplotlib.figure.Figure at 0x10e4d3e10>"
      ]
     },
     "metadata": {},
     "output_type": "display_data"
    }
   ],
   "source": [
    "rangey1 = max(B2)-0.20*max(B2)\n",
    "rangey2 = rangey1 -0.08*max(B2)\n",
    "rangey3 = rangey2 - 0.08*max(B2)\n",
    "rangey4 = rangey3 -0.08*max(B2)\n",
    "plt.plot(radiusinpc,B1,'r--',label=r'$\\kappa=1/2$')\n",
    "plt.plot(radiusinpc,B2,'b--',label=r'$\\kappa=2/3$')\n",
    "plt.legend(numpoints=1,fancybox=True,shadow=True,fontsize=11,loc=1)\n",
    "plt.ylabel(r'$ B \\, (\\mu G)$', fontsize=13)\n",
    "plt.xlabel(r'r \\, (pc) ',fontsize=13)\n",
    "plt.axvline(x=rc,linewidth=0.4,color='k',ls=':')\n",
    "# plt.text(0,0, 'Sum of vales = %s\\n Total number of entries = %s\\n Avg= %s \\n Standard Deviation = %s' % (S, N, avg, sigma)) \n",
    "plt.text(0.02,rangey1, \n",
    "         'n0=%s   cm-3'% '%.1e' % Decimal(n_flat) )\n",
    "plt.text(0.02,rangey2, 'r0=%s   pc'% round(r_flatinpc,3) )\n",
    "plt.text(0.02,rangey3, 'nc=%s   cm-3'% '%.3e' % nc )\n",
    "plt.text(0.02,rangey4, 'rc=%s   pc'% '%.3f' %(rc))\n",
    "plt.title(outputfilename + 'magnetic field profile')\n",
    "outputfiguremag = os.path.join(save_path, outputfilename + 'magfield' +\".eps\")\n",
    "plt.savefig(outputfiguremag,format='eps',dpi=300)\n",
    "plt.show()"
   ]
  },
  {
   "cell_type": "code",
   "execution_count": 8,
   "metadata": {
    "collapsed": false
   },
   "outputs": [
    {
     "name": "stdout",
     "output_type": "stream",
     "text": [
      "./data_sigma/OpHFE_sigmav.dat\n"
     ]
    }
   ],
   "source": [
    "# To plot the variation of deltaB/B as  a function of R\n",
    "## read the data file in fp\n",
    "veldispfilename = \"./data_sigma/\"+ fileName[21]+fileName[22]+fileName[23]+fileName[24]+fileName[25]+\"_sigmav.dat\"\n",
    "filename = veldispfilename\n",
    "print(filename)\n",
    "# fileName = \"./data_sigma/H-MM2_column_density.dat\"\n",
    "# fileName = \"./data_sigma/OpHCN_column_density.dat\"\n",
    "# fileName = \"./data_sigma/OpH-C_column_density.dat\"\n",
    "# fileName = \"./data_sigma/OpH-E_column_density.dat\"\n",
    "# fileName = \"./data_sigma/OpH-X_column_density.dat\"\n",
    "# fileName = \"./data_sigma/OpHFE_column_density.dat\"\n",
    "fp = open (filename,'r')\n",
    "## Declaring an empty list to store the data from the .dat file\n",
    "radius1_list = []  # units cm \n",
    "vthermal_list= []      # units cm^{-3}\n",
    "vthermalerror_list = []\n",
    "vnontherma_list = []\n",
    "vnonthermaerror_list = []\n",
    "\n",
    "\n",
    "## Reading the data from a .dat file line by line\n",
    "for line in fp:\n",
    "    t = line.strip().split()  \n",
    "    radius1_list.append(float(t[0]))\n",
    "    vthermal_list.append(float(t[1]))\n",
    "    vthermalerror_list.append(float(t[2]))\n",
    "    vnontherma_list.append(float(t[3])) \n",
    "    vnonthermaerror_list.append(float(t[4]))\n",
    "    \n",
    "fp.close()\n",
    "radius1= np.asarray(radius1_list)\n",
    "# converting to kms^-1\n",
    "vthermal = np.asarray(vthermal_list)*10**-3\n",
    "vnontherma =np.asarray(vnontherma_list)*10**-3\n",
    "vthermalerror = np.asarray(vthermalerror_list)*10**-3\n",
    "vnonthermaerror = np.asarray(vnonthermaerror_list)*10**-3"
   ]
  },
  {
   "cell_type": "code",
   "execution_count": 9,
   "metadata": {
    "collapsed": false
   },
   "outputs": [],
   "source": [
    "save_path3 = './deltaB_data/'\n",
    "\n",
    "delta_B_file = os.path.join(save_path3, outputfilename + 'deltaB_variation' +\".dat\")"
   ]
  },
  {
   "cell_type": "code",
   "execution_count": 10,
   "metadata": {
    "collapsed": true
   },
   "outputs": [],
   "source": [
    "def delta_B_error(index,r_flatinpc, n_flat,Plummermodel_error,sigma_NT,sigma_nonthermal_err,sigma_NT_C,rc_,r, k):\n",
    "    \n",
    "\n",
    "    '''\n",
    "    Created on 6 May 2018\n",
    "    This function estimate the disribution of B field at a particular radius\n",
    "    Input Parameter : index \n",
    "                    : r_flatinpc\n",
    "                    : n_flat\n",
    "                    : sigma_NT_c\n",
    "                    : The fit error of the Plummer Model (added on 23/04/18)\n",
    "                    : radius at which the field is estiamtes\n",
    "                    : k the \\kappa for the flux freezing model\n",
    "    \n",
    "    \n",
    "    Modified        : 7 August 2018\n",
    "                    : added the error in the variation of rc and \n",
    "    '''\n",
    "    delta_B_sigma = []\n",
    "    delta_B_mean = []\n",
    "    deltaB_overB_sigma = []\n",
    "    \n",
    "#     B_1quartile = []\n",
    "#     B_3quartile = []\n",
    "    npts = 1000\n",
    "    nsim = 1000\n",
    "    beta = 0.5\n",
    "    ## the error were added on 23 April 2018\n",
    "    eta_err = Plummermodel_error[0]\n",
    "    r_0_err = Plummermodel_error[1]\n",
    "    n_0_err = Plummermodel_error[2]\n",
    "    ## the theory at each radius for each simulation we get a B profile and we estimate the mean, 1st quartile and \n",
    "    ## 3rd quartile and B_sigma. Then we run 1000 simulations and take the mean of the above quantity. \n",
    "    for i in range (1, nsim):\n",
    "        power= index + np.random.standard_normal((npts,))*eta_err\n",
    "        r_0 = r_flatinpc  + np.random.standard_normal((npts,))*r_0_err\n",
    "        n_0 = n_flat + np.random.standard_normal((npts,))*n_0_err\n",
    "        Sigma_NT = sigma_NT + np.random.standard_normal((npts,))*sigma_nonthermal_err\n",
    "        Sigma_NT_C = sigma_NT_C + np.random.standard_normal((npts,))*0.1*sigma_NT_C ## added 10% variation to sigma_{NT} by hand\n",
    "        rc = rc_ + np.random.standard_normal((npts,))*0.1*rc_ ## added 10% variation to sigma_{NT} by hand \n",
    "        n_c = n_0/(1+(rc/r_0)**2)**power\n",
    "#         beta = np.random.uniform(0.5,0.8,npts)\n",
    "        B_c = (Sigma_NT_C  *(4* np.pi*mu* np.abs(n_c))**(.5))/beta\n",
    "        \n",
    "        n = n_0/(1+(r/r_0)**2)**power\n",
    "        \n",
    "        delta_B = Sigma_NT* np.sqrt(4*np.pi*mu*np.abs(n))*10**6 ##### main output \n",
    "      \n",
    "       \n",
    "        B = (B_c *(n/n_c)**k) *10**6\n",
    "        \n",
    "        deltaB_overB = delta_B/B  ####### main output\n",
    "        \n",
    "        delta_B_sig = np.std(delta_B)\n",
    "        delta_B_sigma.append(delta_B_sig)\n",
    "        delta_B_mean.append(np.mean(delta_B))\n",
    "        delta_B_sigma.append(delta_B_sig)\n",
    "        deltaB_overB_sig = np.std(deltaB_overB)\n",
    "        deltaB_overB_sigma.append(deltaB_overB_sig)\n",
    "#         B_mean.append(np.mean(B))\n",
    "#         B_1quartile.append(np.percentile(B,25))\n",
    "#         B_3quartile.append(np.percentile(B,75))\n",
    "        \n",
    "    return (delta_B_mean,delta_B_sigma,deltaB_overB_sigma)"
   ]
  },
  {
   "cell_type": "code",
   "execution_count": 11,
   "metadata": {
    "collapsed": false
   },
   "outputs": [
    {
     "name": "stdout",
     "output_type": "stream",
     "text": [
      "0.911330254793 0.0111434899872 233623.330057 [0.16441023531802187, 0.00446372490717811, 93904.90117668077] [ 24066.02287225] [ 0.03577663]\n"
     ]
    }
   ],
   "source": [
    "print(index,r_flatinpc, n_flat,Plummermodel_error,sigma_NT_C,rc)"
   ]
  },
  {
   "cell_type": "code",
   "execution_count": 12,
   "metadata": {
    "collapsed": false
   },
   "outputs": [],
   "source": [
    "radiusforplot = radius1*distinpc*4.84814e-6 # in pc \n",
    "mean_delta_B =[]\n",
    "delta_B_sigma_mean = []\n",
    "deltaB_overB_sigma_mean_k1 = []\n",
    "deltaB_overB_sigma_mean_k2 = []\n",
    "for j in range(0, len(radiusforplot), 1):\n",
    "# for j in range(0, 1, 1):\n",
    "    k1 =1/2\n",
    "    k2 =2/3\n",
    "    r = radiusforplot[j]\n",
    "    sigma_NT = vnontherma[j] *10**5 ## converting to cm s^-1\n",
    "    sigma_NT_err =vnonthermaerror[j] *10**5\n",
    "    delta_B_mean,delta_B_sigma,deltaB_overB_sigma_k1 = delta_B_error(index,r_flatinpc, n_flat,\n",
    "                                                        Plummermodel_error,sigma_NT,sigma_NT_err,sigma_NT_C,rc,r,k1)\n",
    "    delta_B_mean,delta_B_sigma,deltaB_overB_sigma_k2 = delta_B_error(index,r_flatinpc, n_flat,\n",
    "                                                        Plummermodel_error,sigma_NT,sigma_NT_err,sigma_NT_C,rc,r,k2)\n",
    "    delta_B_sigma_mean_list = np.mean(delta_B_sigma)\n",
    "    delta_B_sigma_mean.append(delta_B_sigma_mean_list)\n",
    "    mean_delta_B.append(np.mean(delta_B_mean))\n",
    "    deltaB_overB_sigma_mean_k1_list = np.mean(deltaB_overB_sigma_k1)\n",
    "    deltaB_overB_sigma_mean_k1.append(deltaB_overB_sigma_mean_k1_list)\n",
    "    deltaB_overB_sigma_mean_k2_list = np.mean(deltaB_overB_sigma_k2)\n",
    "    deltaB_overB_sigma_mean_k2.append(deltaB_overB_sigma_mean_k2_list)"
   ]
  },
  {
   "cell_type": "code",
   "execution_count": 13,
   "metadata": {
    "collapsed": false
   },
   "outputs": [
    {
     "name": "stdout",
     "output_type": "stream",
     "text": [
      "[24.147038366886047, 20.679791700546357, 20.166126094245019, 21.725577149957683, 22.967590470542323, 25.949804121758316, 26.054910421528376, 25.198963965836679, 20.932312657386291, 16.955181048311854, 16.907464974859849, 16.796844782443532, 14.847986864363111, 12.564758411325208, 9.4003061273127386]\n"
     ]
    }
   ],
   "source": [
    "print(mean_delta_B)\n"
   ]
  },
  {
   "cell_type": "code",
   "execution_count": 14,
   "metadata": {
    "collapsed": false
   },
   "outputs": [
    {
     "name": "stdout",
     "output_type": "stream",
     "text": [
      "\\Sigma_NT\n",
      " [  7780.   8270.  10100.  13300.  16700.  21900.  25000.  27100.  24900.\n",
      "  22100.  23900.  25600.  24300.  21900.  17400.]\n",
      "sqrt=  [ 469.04337183  388.69866095  307.21467564  247.64260914  205.70778688\n",
      "  175.4389221   152.82107559  135.36952555  121.53037564  110.30112654\n",
      "  101.01263382   93.20375822   86.54746821   80.80589385   75.80212018]\n",
      "deltaB,\n",
      " [ 25.44486726  22.41434971  21.63569853  22.96595986  23.95382059\n",
      "  26.7903048   26.63979326  25.57983785  21.10045289  16.99729497\n",
      "  16.83376211  16.63722842  14.66453279  12.33941989   9.19683068]\n"
     ]
    },
    {
     "data": {
      "image/png": "[encoded data removed]",
      "text/plain": [
       "<matplotlib.figure.Figure at 0x10a240fd0>"
      ]
     },
     "metadata": {},
     "output_type": "display_data"
    },
    {
     "data": {
      "image/png": "[encoded data removed]",
      "text/plain": [
       "<matplotlib.figure.Figure at 0x10e7aea90>"
      ]
     },
     "metadata": {},
     "output_type": "display_data"
    },
    {
     "data": {
      "image/png": "[encoded data removed]",
      "text/plain": [
       "<matplotlib.figure.Figure at 0x10f121ba8>"
      ]
     },
     "metadata": {},
     "output_type": "display_data"
    }
   ],
   "source": [
    "radiusforplot = radius1*distinpc*4.84814e-6 # in pc \n",
    "nplot = n_flat/(1+(radiusforplot/r_flatinpc)**2)**index \n",
    "B1= (B_cc *(nplot/nc)**(1/2))*10**6 \n",
    "B2= (B_cc *(nplot/nc)**(2/3))*10**6\n",
    "# print(\"B1=\", B1)\n",
    "# print(\"n=\",n,\n",
    "#       \"B=\",B1,\n",
    "#       \"Radius=\", radiusforplot)\n",
    "save_path = './figures/'\n",
    "deltaB = vnontherma*10**5 * np.sqrt(4*np.pi*mu*nplot)*10**6\n",
    "deltaBoverB_k1 = deltaB/B1\n",
    "deltaBoverB_k2 = deltaB/B2\n",
    "\n",
    "\n",
    "# print(deltaB)\n",
    "print(\"\\Sigma_NT\\n\", vnontherma*10**5)\n",
    "print(\"sqrt= \", np.sqrt(nplot))\n",
    "print(\"deltaB,\\n\",deltaB)\n",
    "Data_deltaB = np.column_stack((radiusforplot,deltaB,mean_delta_B,delta_B_sigma_mean,\n",
    "                               deltaBoverB_k1,deltaB_overB_sigma_mean_k1,deltaBoverB_k2,deltaB_overB_sigma_mean_k2))\n",
    "np.savetxt(delta_B_file,Data_deltaB, fmt=('%5.3e','%5.3e','%5.3e','%5.3e','%5.3e','%5.3e','%5.3e','%5.3e'))\n",
    "\n",
    "                    ## this is without the mean delta B#########\n",
    "# Data_deltaB = np.column_stack((radiusforplot,deltaB,,delta_B_sigma_mean,\n",
    "#                                deltaBoverB_k1,deltaB_overB_sigma_mean_k1,deltaBoverB_k2,deltaB_overB_sigma_mean_k2))\n",
    "# np.savetxt(delta_B_file,Data_deltaB, fmt=('%5.3e',,'%5.3e','%5.3e','%5.3e','%5.3e','%5.3e','%5.3e'))\n",
    "plt.figure(1)\n",
    "plt.scatter(radiusforplot,deltaB, marker=\"v\")\n",
    "plt.errorbar(radiusforplot,mean_delta_B,yerr=delta_B_sigma_mean,lw=0,elinewidth=1,\n",
    "             ecolor='r', fmt='v',markersize=4,capsize=6,label=r'$\\rm{B_{new}\\, model}$')\n",
    "plt.ylabel(r'$\\delta B \\, (\\mu G) $',fontsize=13)\n",
    "plt.xlabel(r'radius (pc) ',fontsize=13)\n",
    "outputfiguremag1 = os.path.join(save_path, 'H_MM1' + 'delta_B' +\".png\")\n",
    "plt.savefig(outputfiguremag1,format='png',dpi=300)\n",
    "plt.figure(2)\n",
    "plt.scatter(radiusforplot,deltaBoverB_k2, marker=\">\",c = 'r')\n",
    "plt.errorbar(radiusforplot,deltaBoverB_k2,yerr=deltaB_overB_sigma_mean_k2,lw=0,elinewidth=1,\n",
    "             ecolor='r', fmt='v',markersize=4,capsize=6,label=r'$\\rm{B_{new}\\, model}$')\n",
    "plt.ylabel(r'$\\delta B /B $',fontsize=13)\n",
    "plt.xlabel(r'radius (pc) ',fontsize=13)\n",
    "plt.figure(3)\n",
    "plt.scatter(radiusforplot,deltaBoverB_k1, marker=\">\",c = 'r')\n",
    "plt.errorbar(radiusforplot,deltaBoverB_k1,yerr=deltaB_overB_sigma_mean_k1,lw=0,elinewidth=1,\n",
    "             ecolor='r', fmt='v',markersize=4,capsize=6,label=r'$\\rm{B_{new}\\, model}$')\n",
    "plt.ylabel(r'$\\delta B /B $',fontsize=13)\n",
    "plt.xlabel(r'radius (pc) ',fontsize=13)\n",
    "outputfiguremag2 = os.path.join(save_path, 'H_MM1' + 'delta_BoverB' +\".png\")\n",
    "plt.savefig(outputfiguremag2,format='png',dpi=300)\n",
    "plt.show()"
   ]
  },
  {
   "cell_type": "code",
   "execution_count": 15,
   "metadata": {
    "collapsed": false
   },
   "outputs": [
    {
     "name": "stdout",
     "output_type": "stream",
     "text": [
      "[ 50.88973453  44.82869942  43.27139706  45.93191973  47.90764118\n",
      "  53.58060959  53.27958652  51.15967569  42.20090577  33.99458994\n",
      "  33.66752422  33.27445685  29.32906558  24.67883979  18.39366135] [ 101.79930901   84.36161233   65.81445396   51.19900096   45.60819868\n",
      "   41.03078265   33.73953532   30.6464458    27.96815317   25.4871188\n",
      "   24.19131644   22.40837635   20.48418696   18.67169884   17.01909399]\n"
     ]
    }
   ],
   "source": [
    "\n",
    "B_test = (((vnontherma*10**5)*(4* np.pi*mu* nplot)**(.5))/beta)*10**6\n",
    "B_test_in = (((vthermal*10**5*2*np.sqrt(2*np.pi))  *(0.9*mu* nplot)**(.5)))*10**6\n",
    "print(B_test,B_test_in)"
   ]
  },
  {
   "cell_type": "code",
   "execution_count": 16,
   "metadata": {
    "collapsed": false
   },
   "outputs": [
    {
     "data": {
      "image/png": "[encoded data removed]",
      "text/plain": [
       "<matplotlib.figure.Figure at 0x10e3c6588>"
      ]
     },
     "metadata": {},
     "output_type": "display_data"
    },
    {
     "data": {
      "image/png": "[encoded data removed]",
      "text/plain": [
       "<matplotlib.figure.Figure at 0x10f42ba90>"
      ]
     },
     "metadata": {},
     "output_type": "display_data"
    }
   ],
   "source": [
    "plt.plot(radiusforplot, B_test)\n",
    "plt.show()\n",
    "plt.plot(radiusforplot, B_test_in)\n",
    "plt.show()\n"
   ]
  },
  {
   "cell_type": "code",
   "execution_count": 17,
   "metadata": {
    "collapsed": false
   },
   "outputs": [
    {
     "name": "stdout",
     "output_type": "stream",
     "text": [
      "[ 0.03577663]\n"
     ]
    }
   ],
   "source": [
    "print(rc)"
   ]
  },
  {
   "cell_type": "code",
   "execution_count": 18,
   "metadata": {
    "collapsed": false
   },
   "outputs": [
    {
     "name": "stdout",
     "output_type": "stream",
     "text": [
      "3.869058666e-24\n"
     ]
    }
   ],
   "source": [
    "print (mu)"
   ]
  },
  {
   "cell_type": "code",
   "execution_count": 19,
   "metadata": {
    "collapsed": false
   },
   "outputs": [
    {
     "name": "stdout",
     "output_type": "stream",
     "text": [
      "[ 0.013    0.0099   0.00929  0.0108   0.0125   0.0138   0.0219   0.0146\n",
      "  0.015    0.0112   0.0125   0.011    0.011    0.0173   0.00845]\n"
     ]
    }
   ],
   "source": [
    "print(vnonthermaerror)"
   ]
  },
  {
   "cell_type": "code",
   "execution_count": 20,
   "metadata": {
    "collapsed": false
   },
   "outputs": [
    {
     "ename": "SyntaxError",
     "evalue": "invalid syntax (<ipython-input-20-da38acdcc708>, line 1)",
     "output_type": "error",
     "traceback": [
      "\u001b[0;36m  File \u001b[0;32m\"<ipython-input-20-da38acdcc708>\"\u001b[0;36m, line \u001b[0;32m1\u001b[0m\n\u001b[0;31m    len(radiusforplot[<rc])\u001b[0m\n\u001b[0m                      ^\u001b[0m\n\u001b[0;31mSyntaxError\u001b[0m\u001b[0;31m:\u001b[0m invalid syntax\n"
     ]
    }
   ],
   "source": [
    "len(radiusforplot[<rc])"
   ]
  },
  {
   "cell_type": "code",
   "execution_count": null,
   "metadata": {
    "collapsed": false
   },
   "outputs": [],
   "source": [
    "print(rc)"
   ]
  },
  {
   "cell_type": "code",
   "execution_count": null,
   "metadata": {
    "collapsed": false
   },
   "outputs": [],
   "source": [
    "print(radiusforplot[radiusforplot<rc])"
   ]
  },
  {
   "cell_type": "code",
   "execution_count": null,
   "metadata": {
    "collapsed": false
   },
   "outputs": [],
   "source": [
    "vnontherma[radiusforplot<rc]"
   ]
  },
  {
   "cell_type": "code",
   "execution_count": null,
   "metadata": {
    "collapsed": true
   },
   "outputs": [],
   "source": []
  }
 ],
 "metadata": {
  "kernelspec": {
   "display_name": "Python 3",
   "language": "python",
   "name": "python3"
  },
  "language_info": {
   "codemirror_mode": {
    "name": "ipython",
    "version": 3
   },
   "file_extension": ".py",
   "mimetype": "text/x-python",
   "name": "python",
   "nbconvert_exporter": "python",
   "pygments_lexer": "ipython3",
   "version": "3.6.0"
  }
 },
 "nbformat": 4,
 "nbformat_minor": 2
}
