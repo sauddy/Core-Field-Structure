{
 "cells": [
  {
   "cell_type": "code",
   "execution_count": 1,
   "metadata": {},
   "outputs": [],
   "source": [
    "\n",
    "'''\n",
    "MASTER SCRIPT\n",
    "\n",
    "This a new script to analysise the following\n",
    "1. Density profile\n",
    "2. Transonic radius and nonthermal velocity at r_c\n",
    "3. Energy estimate\n",
    "4. B_field\n",
    "5. Mass-to_flux ratio\n",
    "6. B_field error\n",
    "7. Mass-to-flux error\n",
    "\n",
    "Author   : Sayantan Auddy\n",
    "Created  : 18 September 2017\n",
    "Modified : 23 April 2018\n",
    "\n",
    "Modified : MAy 7 2018 added the enegy estimate but without the errors\n",
    "\n",
    "Modifies : 30 July to change the plotting radius till rc\n",
    "         : added error to rc and beta in function and cfs file,\n",
    "         : added error to the total mass estimate\n",
    "         \n",
    "Modified : 21 August to add the percentage increase in B2 over B1 and for B1 over B1_u1 (diffenrent \\beta)        \n",
    "\n",
    "'''\n",
    "\n",
    "'''\n",
    "Output data files : Magne\n",
    "\n",
    "'''\n",
    "\n",
    "import numpy as np\n",
    "import matplotlib.pyplot as plt\n",
    "plt.rc('text',usetex=True)\n",
    "from scipy import optimize\n",
    "from scipy.optimize import fsolve\n",
    "from scipy.interpolate import interp1d\n",
    "from scipy import integrate\n",
    "import os.path\n",
    "from decimal import Decimal # to print in scientific notation\n",
    "import CFS_functions as cfs\n",
    "import function as mf"
   ]
  },
  {
   "cell_type": "code",
   "execution_count": 2,
   "metadata": {},
   "outputs": [],
   "source": [
    "# parameters that are needed.\n",
    "distinpc = 120.0\n",
    "pc = 3.0857e+18 # cm \n",
    "AU = 1.496e+13  # cm\n",
    "amu = 1.6605402e-24 # g\n",
    "mu = 2.33*amu\n",
    "mperH2= 2.8* amu\n",
    "Msun=1.9891e+33 # g\n",
    "G = 6.67259e-8 # cm3 g-1 s-2\n",
    "# 1 Gauss = g^(1/2) * cm^{-1/2}* s^-1\n",
    "##"
   ]
  },
  {
   "cell_type": "code",
   "execution_count": 3,
   "metadata": {},
   "outputs": [
    {
     "name": "stdout",
     "output_type": "stream",
     "text": [
      "[  1.33454701e+23   4.97165228e+01   8.77456126e-01]\n",
      "[  9.88658658e+20   1.90880453e+01   4.54170643e-01]\n"
     ]
    },
    {
     "data": {
      "image/png": "[encoded data removed]",
      "text/plain": [
       "<Figure size 432x288 with 1 Axes>"
      ]
     },
     "metadata": {
      "needs_background": "light"
     },
     "output_type": "display_data"
    }
   ],
   "source": [
    "## fitting the plummer type fucntion to the column density profile\n",
    "# fileName = \"./columndensity_data/H-MM1_column_density.dat\"\n",
    "# fileName = \"./columndensity_data/H-MM2_column_density.dat\"\n",
    "# fileName = \"./columndensity_data/OpHCN_column_density.dat\"\n",
    "fileName = \"./columndensity_data/OpH-C_column_density.dat\"\n",
    "# fileName = \"./columndensity_data/OpH-E_column_density.dat\"\n",
    "# fileName = \"./columndensity_data/OpH-X_column_density.dat\"\n",
    "# fileName = \"./columndensity_data/OpHFE_column_density.dat\"\n",
    "radius,columndensity,columndensityerror = cfs.readcolumndensity(fileName)\n",
    "\n",
    "vGuess = [np.max(columndensity),24,1]\n",
    "vPars, aCova = optimize.curve_fit(cfs.plummerfunction, radius, columndensity, vGuess,sigma=columndensityerror,absolute_sigma=True)\n",
    "print(vPars)\n",
    "unc = np.sqrt(np.diag(aCova))\n",
    "print(unc)\n",
    "xFine = np.linspace(radius[0],radius[len(radius)-1], num=100, endpoint=True)\n",
    "plt.errorbar(radius,columndensity,yerr=columndensityerror,lw=0,elinewidth=1,ecolor='b', fmt='ko',markersize=2)\n",
    "plt.plot(xFine, cfs.plummerfunction(xFine,*vPars), 'g-', lw=1) # Fitted parameters\n",
    "plt.xlabel('radius (arcsec)')\n",
    "plt.ylabel(r'column density $cm^{-2}$',fontsize=15)\n",
    "plt.show()"
   ]
  },
  {
   "cell_type": "code",
   "execution_count": 4,
   "metadata": {},
   "outputs": [
    {
     "name": "stdout",
     "output_type": "stream",
     "text": [
      "n_flat= 689414.483362 cm-3\n",
      "r_flatinpc= 0.0289241020879\n",
      "index= 1.37745612594\n"
     ]
    },
    {
     "data": {
      "image/png": "[encoded data removed]",
      "text/plain": [
       "<Figure size 432x288 with 1 Axes>"
      ]
     },
     "metadata": {
      "needs_background": "light"
     },
     "output_type": "display_data"
    },
    {
     "name": "stdout",
     "output_type": "stream",
     "text": [
      "[ 0.00174534  0.00523602  0.00872671  0.01221739  0.01570807  0.01919876\n",
      "  0.02268944  0.02618012  0.0296708   0.03316149  0.03665217  0.04014285\n",
      "  0.04363354  0.04712422  0.0506149 ]\n"
     ]
    }
   ],
   "source": [
    "### Density Profile\n",
    "n_flat,r_flatinpc,index= cfs.plummerparameter(vPars[0],vPars[1],vPars[2])\n",
    "print(\"n_flat=\",n_flat,\"cm-3\")\n",
    "print(\"r_flatinpc=\",r_flatinpc)\n",
    "print(\"index=\" ,index)\n",
    "radiusinpc = radius*distinpc*AU/pc\n",
    "n = n_flat/(1+(radiusinpc/r_flatinpc)**2)**index \n",
    "outputfilename =  fileName[21]+fileName[22]+fileName[23]+fileName[24]+fileName[25]\n",
    "save_path = './figures/'\n",
    "outputfigureden = os.path.join(save_path, outputfilename + '_density' +\".eps\")\n",
    "ranger1 = max(n)-0.20*max(n)\n",
    "ranger2 = ranger1 -0.08*max(n)\n",
    "ranger3 = ranger2 -0.08*max(n)\n",
    "ranger4 = ranger3 -0.08*max(n)\n",
    "plt.plot(radiusinpc,n,'k--')\n",
    "plt.ylabel(r'$ \\rho \\, (cm^{-3})$', fontsize=15)\n",
    "plt.xlabel(r'r (pc)',fontsize=15)\n",
    "plt.axvline(x=r_flatinpc,linewidth=0.4,color='k',ls=':')\n",
    "plt.text(r_flatinpc,ranger1, 'The fit parameters from the Plummer Model :' )\n",
    "plt.text(r_flatinpc+0.001,ranger2, 'n0=%s   cm-3'% '%.1e' % Decimal(n_flat) )\n",
    "plt.text(r_flatinpc+0.001,ranger3, 'r0=%s   pc'% round(r_flatinpc,3) )\n",
    "plt.text(r_flatinpc+0.001,ranger4, 'index = %s'% round(index,2) )\n",
    "plt.ticklabel_format(axis='y',style='sci',scilimits=(0,2))\n",
    "plt.title(outputfilename +' density profile')\n",
    "# plt.yscale('log')\n",
    "plt.savefig(outputfigureden,format='eps',dpi=300)\n",
    "plt.show()\n",
    "print(radiusinpc)"
   ]
  },
  {
   "cell_type": "code",
   "execution_count": 5,
   "metadata": {},
   "outputs": [],
   "source": [
    "save_path1 = './errors/'\n",
    "save_path2 = './magnetic_field_data/'\n",
    "save_path3 = './plummer_fit_data/'\n",
    "save_path4 = './energy_data/' \n",
    "\n",
    "energydata_file = os.path.join(save_path4, outputfilename + 'energy' +\".dat\")\n",
    "\n",
    "plummerfit_file = os.path.join(save_path3, outputfilename + 'plummerfit' +\".dat\")\n",
    "\n",
    "outputm2ferrorsk1 = os.path.join(save_path1, outputfilename + '_masstoflux_k1' +\".dat\")\n",
    "outputm2ferrorsk2 = os.path.join(save_path1, outputfilename + '_masstoflux_k2' +\".dat\")\n",
    "\n",
    "outputm2f = os.path.join(save_path2, outputfilename + '_m2f' +\".dat\")\n",
    "\n",
    "\n",
    "outputBerrorsk1 = os.path.join(save_path1, outputfilename + '_berror_k1' +\".dat\")\n",
    "outputBerrorsk2 = os.path.join(save_path1, outputfilename + '_berror_k2' +\".dat\")\n",
    "\n",
    "outputB = os.path.join(save_path2, outputfilename + '_B_field' +\".dat\")\n"
   ]
  },
  {
   "cell_type": "code",
   "execution_count": 6,
   "metadata": {},
   "outputs": [
    {
     "name": "stdout",
     "output_type": "stream",
     "text": [
      "1.4+/-0.5\n",
      "0.029+/-0.011\n",
      "(6.9+/-2.6)e+05\n",
      "[0.45417064318408124, 0.01110505200965199, 264741.45105629304]\n"
     ]
    }
   ],
   "source": [
    "from uncertainties import ufloat\n",
    "eta = ufloat(vPars[2],unc[2])+0.5\n",
    "print(eta)\n",
    "r_fl = ufloat(vPars[1],unc[1])*distinpc*AU\n",
    "# print(r_flat)\n",
    "print(r_fl/pc)\n",
    "def Ap(u):\n",
    "    return 1/ (1+u**2)**index\n",
    "def bounds_u():\n",
    "    return [-2500, 2500]\n",
    "result = integrate.nquad(Ap, [bounds_u])\n",
    "    \n",
    "n_fl=ufloat(vPars[0],unc[0])/r_fl/result[0]\n",
    "print(n_fl)\n",
    "Plummermodel_error = [eta.s,r_fl.s/pc,n_fl.s]\n",
    "print(Plummermodel_error)\n",
    "Dataplummer = np.column_stack((n_flat,Plummermodel_error[2],r_flatinpc,Plummermodel_error[1],index,Plummermodel_error[0]))\n",
    "\n",
    "np.savetxt(plummerfit_file,Dataplummer, fmt=('%5.3e','%5.3e','%5.3e','%5.3e','%5.3e','%5.3e'))"
   ]
  },
  {
   "cell_type": "code",
   "execution_count": 7,
   "metadata": {},
   "outputs": [
    {
     "name": "stdout",
     "output_type": "stream",
     "text": [
      "[0.22983553755327335]\n",
      "sigma_NC= [ 22983.55375533] cm/s \n",
      " rc = [ 0.04515263] pc\n",
      "nc= [ 125870.97839708]\n",
      "B_cc = [ 0.00011371]  Gauss\n",
      "[ 2298.35537553]\n",
      "[ 0.          0.00092148  0.00184296  0.00276445  0.00368593  0.00460741\n",
      "  0.00552889  0.00645038  0.00737186  0.00829334  0.00921482  0.0101363\n",
      "  0.01105779  0.01197927  0.01290075  0.01382223  0.01474372  0.0156652\n",
      "  0.01658668  0.01750816  0.01842964  0.01935113  0.02027261  0.02119409\n",
      "  0.02211557  0.02303706  0.02395854  0.02488002  0.0258015   0.02672298\n",
      "  0.02764447  0.02856595  0.02948743  0.03040891  0.0313304   0.03225188\n",
      "  0.03317336  0.03409484  0.03501633  0.03593781  0.03685929  0.03778077\n",
      "  0.03870225  0.03962374  0.04054522  0.0414667   0.04238818  0.04330967\n",
      "  0.04423115  0.04515263]\n"
     ]
    }
   ],
   "source": [
    "# reading the transonic radius and the vel disper from file\n",
    "\n",
    "filenametrasonicradius = \"./transonic_data/\" + fileName[21]+fileName[22]+fileName[23]+fileName[24]+fileName[25]+'rt.txt'\n",
    "filenametrasonicsigma  = \"./transonic_data/\" + fileName[21]+fileName[22]+fileName[23]+fileName[24]+fileName[25]+'sigmat.txt'\n",
    "r_cc_file = mf.readfilefortransonicdata(filenametrasonicradius)\n",
    "r_c = np.asarray(r_cc_file)\n",
    "rc = r_c*distinpc*4.84814e-6 # in pc \n",
    "sigma_NT_C_file = mf.readfilefortransonicdata(filenametrasonicsigma)\n",
    "print(sigma_NT_C_file)\n",
    "sigma_NT_C = np.asarray(sigma_NT_C_file)*(10**5)\n",
    "print(\"sigma_NC=\",sigma_NT_C,\"cm/s \\n\",\"rc =\",rc,\"pc\")\n",
    "#### magnetic field with error ### \n",
    "# sigma_NT_C = 24589.090\n",
    "# rc = 0.05\n",
    "beta = 0.5\n",
    "beta_ul = 0.8\n",
    "nc = n_flat/(1+(rc/r_flatinpc)**2)**index\n",
    "print(\"nc=\",nc)\n",
    "B_cc = (sigma_NT_C  *(4* np.pi*mu* nc)**(.5))/beta\n",
    "B_cc_ul = (sigma_NT_C  *(4* np.pi*mu* nc)**(.5))/beta_ul\n",
    "print(\"B_cc =\" , B_cc,\" Gauss\")\n",
    "\n",
    "## changes made on 30July to plot just inside the radius\n",
    "\n",
    "radiusinsidecore = np.linspace(0,rc,50)  \n",
    "n_insidecore = n_flat/(1+(radiusinsidecore/r_flatinpc)**2)**index \n",
    "B1= (B_cc *(n_insidecore/nc)**(1/2))*10**6\n",
    "B1_ul= (B_cc_ul *(n_insidecore/nc)**(1/2))*10**6\n",
    "\n",
    "# print(B1)\n",
    "B2 = (B_cc *(n_insidecore/nc)**(2/3))*10**6 \n",
    "B2_ul = (B_cc_ul *(n_insidecore/nc)**(2/3))*10**6 \n",
    "print(0.1*sigma_NT_C)\n",
    "\n",
    "## this column saves the radius, n and both the mag fields Added 5 May18\n",
    "DataOutB = np.column_stack((radiusinsidecore,n_insidecore,B1,B2,B1_ul,B2_ul))\n",
    "\n",
    "np.savetxt(outputB, DataOutB, fmt=('%5.3e','%5.3e','%5.3e','%5.3e','%5.3e','%5.3e'))\n",
    "print(radiusinsidecore)\n",
    "# print(B1)\n"
   ]
  },
  {
   "cell_type": "code",
   "execution_count": 10,
   "metadata": {},
   "outputs": [
    {
     "name": "stdout",
     "output_type": "stream",
     "text": [
      "[ 0.04515263] [ 0.00011371] 0.0289241020879 689414.483362 [ 125870.97839708] 1.37745612594 0.6666666666666666\n",
      "mean field= 166.21704848532073  10^-6 Gauss\n"
     ]
    }
   ],
   "source": [
    "## added on 12 March to calculate the mean magnetic field of the core\n",
    "print(rc,B_cc,r_flatinpc,n_flat,nc,index,2/3)\n",
    "mean_magnetic_field = mf.mean_magnetic_field(rc,B_cc,r_flatinpc,n_flat,nc,index,2/3)\n",
    "print(\"mean field=\",mean_magnetic_field*10**6, \" 10^-6 Gauss\" )"
   ]
  },
  {
   "cell_type": "code",
   "execution_count": 12,
   "metadata": {},
   "outputs": [
    {
     "name": "stdout",
     "output_type": "stream",
     "text": [
      "nc= 413736.594888\n",
      "B1= [ 220.56775031] B1_mod= [ 137.85484394]\n",
      "B2= [ 370.62870664] B2_mod= [ 231.64294165]\n",
      "B2 increase by [ 0.68033952]\n"
     ]
    }
   ],
   "source": [
    "## we need to add a column to estimate the percentage increase between B1 and B2 and B1 and B1_u1 at any particular radius \n",
    "## lets say at r = 0.01 pc for H-MM1. \n",
    "# Date added = 21 August 2018\n",
    "r01 = 0.01\n",
    "\n",
    "n_r01 = n_flat/(1+(r01/r_flatinpc)**2)**index\n",
    "print(\"nc=\",n_r01)\n",
    "\n",
    "B1_r01= (B_cc *(n_r01/nc)**(1/2))*10**6\n",
    "B1_ul_r01= (B_cc_ul *(n_r01/nc)**(1/2))*10**6\n",
    "\n",
    "print(\"B1=\",B1_r01, \"B1_mod=\", B1_ul_r01)\n",
    "B2_r01 = (B_cc *(n_r01/nc)**(2/3))*10**6 \n",
    "B2_ul_r01 = (B_cc_ul *(n_r01/nc)**(2/3))*10**6 \n",
    "print(\"B2=\",B2_r01,\"B2_mod=\",B2_ul_r01)\n",
    "percentageincrease_B2andB1 = (B2_r01 - B1_r01)/B1_r01\n",
    "# percentagedecrease_B1_u1andB1 = (B1_r01 - B1_ul_r01)/B1_r01\n",
    "# percentagedecrease_B2_u1andB2 = (B2_r01 - B2_ul_r01)/B2_r01\n",
    "#percentagedecrease_B2_u1andB2 = (B_cc - B_cc_ul)/B_cc\n",
    "print(\"B2 increase by\", percentageincrease_B2andB1)\n",
    "# print(\"B1_u1dec_B1\",percentagedecrease_B1_u1andB1)\n",
    "#print(\"B2_u1dec_B2\",percentagedecrease_B2_u1andB2)"
   ]
  },
  {
   "cell_type": "code",
   "execution_count": 13,
   "metadata": {},
   "outputs": [],
   "source": [
    "## read the transonic data from the fil\n",
    "fileNamevelocitydisprsion = \"./data_sigma/\"+fileName[21]+fileName[22]+fileName[23]+fileName[24]+fileName[25]+\"_sigmav.dat\"\n",
    "fp = open (fileNamevelocitydisprsion,'r')\n",
    "## Declaring an empty list to store the data from the .dat file\n",
    "radius1_list = []  # units cm \n",
    "vthermal_list= []      # units cm^{-3}\n",
    "vnontherma_list = []\n",
    "\n",
    "## Reading the data from a .dat file line by line\n",
    "for line in fp:\n",
    "    t = line.strip().split()  \n",
    "    radius1_list.append(float(t[0]))\n",
    "    vthermal_list.append(float(t[1]))\n",
    "    vnontherma_list.append(float(t[2])) \n",
    "    \n",
    "fp.close()  \n",
    "vthermal = np.asarray(vthermal_list)\n",
    "vnonthermal = np.asarray(vnontherma_list)\n",
    "# radiusinpc = np.asarray(radius1_list)*distinpc*4.84814e-6 # in pc\n",
    "# print(radiusinpc)\n",
    "# print(vthermal)"
   ]
  },
  {
   "cell_type": "code",
   "execution_count": 14,
   "metadata": {},
   "outputs": [
    {
     "data": {
      "image/png": "[encoded data removed]",
      "text/plain": [
       "<Figure size 432x288 with 1 Axes>"
      ]
     },
     "metadata": {
      "needs_background": "light"
     },
     "output_type": "display_data"
    }
   ],
   "source": [
    "rangey1 = max(B2)-0.20*max(B2)\n",
    "rangey2 = rangey1 -0.08*max(B2)\n",
    "rangey3 = rangey2 - 0.08*max(B2)\n",
    "rangey4 = rangey3 -0.08*max(B2)\n",
    "plt.plot(radiusinsidecore,B1,'r--',label=r'$\\kappa=1/2$')\n",
    "plt.plot(radiusinsidecore,B2,'b--',label=r'$\\kappa=2/3$')\n",
    "plt.legend(numpoints=1,fancybox=True,shadow=True,fontsize=11,loc=1)\n",
    "plt.ylabel(r'$ B \\, (\\mu G)$', fontsize=13)\n",
    "plt.xlabel(r'r \\, (pc) ',fontsize=13)\n",
    "plt.axvline(x=rc,linewidth=0.4,color='k',ls=':')\n",
    "# plt.text(0,0, 'Sum of vales = %s\\n Total number of entries = %s\\n Avg= %s \\n Standard Deviation = %s' % (S, N, avg, sigma)) \n",
    "plt.text(0.02,rangey1, \n",
    "         'n0=%s   cm-3'% '%.1e' % Decimal(n_flat) )\n",
    "plt.text(0.02,rangey2, 'r0=%s   pc'% round(r_flatinpc,3) )\n",
    "plt.text(0.02,rangey3, 'nc=%s   cm-3'% '%.3e' % nc )\n",
    "plt.text(0.02,rangey4, 'rc=%s   pc'% '%.3f' %(rc))\n",
    "plt.title(outputfilename + 'magnetic field profile')\n",
    "outputfiguremag = os.path.join(save_path, outputfilename + 'magfield' +\".eps\")\n",
    "plt.savefig(outputfiguremag,format='eps',dpi=300)\n",
    "plt.show()"
   ]
  },
  {
   "cell_type": "code",
   "execution_count": null,
   "metadata": {},
   "outputs": [],
   "source": [
    "# # example of the distribution of the B field at any r\n",
    "# # print( B_sigmaerror(index,r_flatinpc, n_flat, sigma_NT_C,0.1, k=1/2))\n",
    "# Bmean,B_sigma,B_1quartile,B_3quartile = B_sigmaerror(index,r_flatinpc, n_flat, sigma_NT_C,0.01, k=2/3)\n",
    "# # print(Bmean,B_sigma,B_1quartile,B_3quartile)\n",
    "# plt.hist(Bmean)\n",
    "# plt.show()\n",
    "# plt.hist(B_1quartile)\n",
    "# plt.show()"
   ]
  },
  {
   "cell_type": "code",
   "execution_count": null,
   "metadata": {},
   "outputs": [],
   "source": [
    "Bk1_1quatile = []\n",
    "Bk1_mean = []\n",
    "Bk1_3quatile = []\n",
    "Bk1_sigma_mean = []\n",
    "Bk2_1quatile = []\n",
    "Bk2_mean = []\n",
    "Bk2_3quatile = []\n",
    "Bk2_sigma_mean = []\n",
    "N =100\n",
    "# radius = np.linspace(0,0.06,N)\n",
    "r = []\n",
    "for j in range(0, len(radiusinsidecore), 1):\n",
    "        r = radiusinsidecore[j]\n",
    "        # k1 = 1/2\n",
    "        Bmean_k1,B_sigma_k1,B_1quartile_k1,B_3quartile_k1 = cfs.B_sigmaerror(index,r_flatinpc, n_flat,Plummermodel_error,sigma_NT_C,rc,r, k=1/2)\n",
    "        Bk1_1quatile_list = np.mean(B_1quartile_k1)\n",
    "        Bk1_1quatile.append(Bk1_1quatile_list)\n",
    "        Bk1_mean_list = np.mean(Bmean_k1)\n",
    "        Bk1_mean.append(Bk1_mean_list)\n",
    "        Bk1_3quatile_list = np.mean(B_3quartile_k1)\n",
    "        Bk1_3quatile.append(Bk1_3quatile_list)\n",
    "        Bk1_sigma_mean_list = np.mean(B_sigma_k1)\n",
    "        Bk1_sigma_mean.append(Bk1_sigma_mean_list)\n",
    "        \n",
    "        # k2 = 2/3\n",
    "        Bmean_k2,B_sigma_k2,B_1quartile_k2,B_3quartile_k2 = cfs.B_sigmaerror(index,r_flatinpc, n_flat,Plummermodel_error,sigma_NT_C,rc,r, k=2/3)\n",
    "        Bk2_1quatile_list = np.mean(B_1quartile_k2)\n",
    "        Bk2_1quatile.append(Bk2_1quatile_list)\n",
    "        Bk2_mean_list = np.mean(Bmean_k2)\n",
    "        Bk2_mean.append(Bk2_mean_list)\n",
    "        Bk2_3quatile_list = np.mean(B_3quartile_k2)\n",
    "        Bk2_3quatile.append(Bk2_3quatile_list)\n",
    "        Bk2_sigma_mean_list = np.mean(B_sigma_k2)\n",
    "        Bk2_sigma_mean.append(Bk2_sigma_mean_list)\n",
    "        \n",
    "\n",
    "DataOut1 = np.column_stack((Bk1_1quatile,Bk1_mean,Bk1_3quatile))\n",
    "DataOut2 = np.column_stack((Bk2_1quatile,Bk2_mean,Bk2_3quatile))\n",
    "np.savetxt(outputBerrorsk1, DataOut1, fmt=('%5.3e', '%5.3e', '%5.3e')) \n",
    "np.savetxt(outputBerrorsk2, DataOut2, fmt=('%5.3e', '%5.3e', '%5.3e')) "
   ]
  },
  {
   "cell_type": "code",
   "execution_count": null,
   "metadata": {},
   "outputs": [],
   "source": [
    "Bk1_1quatile,Bk1_mean,Bk1_3quatile = cfs.readmagneticfielderror(outputBerrorsk1)\n",
    "Bk2_1quatile,Bk2_mean,Bk2_3quatile = cfs.readmagneticfielderror(outputBerrorsk2)\n",
    "\n",
    "\n",
    "plt.figure(figsize=(6,4)) \n",
    "plt.plot(radiusinsidecore, B1,'r--',lw=0.8,label=r'$B\\, \\rm{for} \\, k =1/2$')\n",
    "plt.plot(radiusinsidecore, Bk1_mean,'r',lw=0.8,label=r'$B_{\\rm{mean}}\\, \\rm{for}\\, k =1/2$')\n",
    "# Bk1errorplus = np.asanyarray(Bk1_mean) + np.asanyarray(Bk1_sigma_median)\n",
    "# Bk1errorminus = np.asanyarray(Bk1_mean) - np.asanyarray(Bk1_sigma_median)\n",
    "plt.fill_between(radiusinsidecore, Bk1_1quatile, Bk1_3quatile,color = 'aqua', alpha=0.5,interpolate=False)\n",
    "# plt.fill_between(radius, Bk1errorplus, Bk1errorminus,facecolor='grey', alpha=1,interpolate=True)\n",
    "plt.ylabel(r' B $(\\mu G)$', fontsize=13)\n",
    "plt.xlabel(r' r $(pc)$ ',fontsize=13)\n",
    "plt.axvline(x=rc,linewidth=0.4,color='k',ls=':')\n",
    "plt.plot(radiusinsidecore, B2,'m--',lw=0.8,label=r'$B \\, \\rm{for}\\, k =2/3$')\n",
    "plt.plot(radiusinsidecore, Bk2_mean,'m',lw=0.8,label=r'$B_{\\rm{mean}} \\, \\rm{for} \\,k =2/3$')\n",
    "# Bk2errorplus = np.asanyarray(Bk2_mean) + np.asanyarray(Bk2_sigma_median)\n",
    "# Bk2errorminus = np.asanyarray(Bk2_mean) - np.asanyarray(Bk2_sigma_median)\n",
    "plt.fill_between(radiusinsidecore, Bk2_1quatile, Bk2_3quatile,color = 'aquamarine', alpha=0.5,interpolate=True)\n",
    "# plt.plot(radiusinpc, Bk2_1quatile,'--', radiusinpc,Bk2_3quatile,'--',color = '#550caf', alpha=0.01)\n",
    "# plt.fill_between(radius, Bk2errorplus, Bk2errorminus,facecolor='grey', alpha=0.1,interpolate=True)\n",
    "# plt.plot(radius, Berrorplus, 'k--')\n",
    "# plt.plot(radius, Berrorminus, 'k--')\n",
    "plt.title(outputfilename +' magnetic field profile')\n",
    "plt.legend(numpoints=1,fancybox=True,shadow=False,fontsize=11,loc=1)\n",
    "save_path2 = './Plots_report/'\n",
    "outputfiguremagerroe = os.path.join(save_path2, outputfilename + 'magfielderr' +\".eps\")\n",
    "# plt.savefig(outputfiguremagerroe,format='eps',dpi=300)\n",
    "plt.show()"
   ]
  },
  {
   "cell_type": "code",
   "execution_count": null,
   "metadata": {},
   "outputs": [],
   "source": [
    "N = 20 \n",
    "\n",
    "'''\n",
    "note had to redefine the radius, the numerical masstoflux code can only take radius < r_c\n",
    "so the new radius array has r_c as the maximum radius\n",
    "'''\n",
    "\n",
    "radiusinpcformass = np.linspace(0,rc,N)    \n",
    "# radiusinpcformass = radiusinpc\n",
    "length =len(radiusinpcformass)\n",
    "\n",
    "total_mass = mf.numericalmassforanyindex(radiusinpcformass,rc,r_flatinpc,n_flat,index,length-1)\n",
    "cumulative_mass =total_mass/Msun\n",
    "print(\"total mass=\",total_mass,\"\\ntotal mass in solar units= \",cumulative_mass)  # note this number will match with Jorma is use mperH2 instead of mu\n",
    "print(max(radiusinpc))\n",
    "print(r_flatinpc,rc,n_flat,nc,B_cc,index)"
   ]
  },
  {
   "cell_type": "code",
   "execution_count": null,
   "metadata": {},
   "outputs": [],
   "source": [
    "# calculation of normalised mass-to-flux for k =2/3 and k =.5\n",
    "## Howverm we are not using it for the paper as here we consider cylindrical flux tubes. \n",
    "\n",
    "# k1=1/2\n",
    "# k2=2/3\n",
    "# m2fk1_list = []       # this is for numerical k= .5\n",
    "# m2fk2_list = []       # this is for numerical k= 2/3\n",
    "# for i in range(1,N):\n",
    "#     m2fnum0 = mf.numericalmasstoflux(radiusinpcformass,r_flatinpc,rc,n_flat,nc,B_cc,index,k1,i)\n",
    "#     m2fk1_list.append(float(m2fnum0)) # in  grams\n",
    "#     m2fnum1 = mf.numericalmasstoflux(radiusinpcformass,r_flatinpc,rc,n_flat,nc,B_cc,index,k2,i)\n",
    "#     m2fk2_list.append(float(m2fnum1)) # in  grams\n",
    "# #     flux_list.append(float(f))\n",
    "# #         flux_model.append(float(fm))\n",
    "# m2fk1 = np.asarray(m2fk1_list)\n",
    "# m2fk2 = np.asarray(m2fk2_list)\n",
    "\n",
    "# # print(len(mass),mass)\n",
    "# # plt.axhline(y=1,xmin= 0.01,xmax=1,linewidth=0.5, color = 'k')\n",
    "# plt.plot(radiusinpcformass[1:N],m2fk1,'r--',label='k=1/2')\n",
    "# plt.plot(radiusinpcformass[1:N],m2fk2,'b--',label = 'k=2/3')\n",
    "# # plt.text(.005,.32,'k = 2/3')\n",
    "# plt.legend(numpoints=1,fancybox=True,shadow=True,fontsize=11,loc=1)\n",
    "# plt.ylabel(r'$\\frac{M/\\Phi}{(M/\\Phi)_0}$', fontsize=15)\n",
    "# plt.xlabel(r'r (pc)',fontsize=15)\n",
    "# plt.text(0.004,0.9, r'$(\\sigma_{B}/B)_c=%.2f $ '%  beta,fontsize=15 )\n",
    "# plt.title(outputfilename +' mass-to-flux ratio')\n",
    "# # plt.ylim(0,20)\n",
    "# save_path = './Plots_report/mf2_figures/'\n",
    "# outputfigurem2f = os.path.join(save_path, outputfilename + 'mass2flux' +\".eps\")\n",
    "# plt.savefig(outputfigurem2f,format='eps',dpi=300)\n",
    "# # plt.show()\n",
    "\n",
    "# DataOutm2f = np.column_stack((m2fk1,m2fk2))\n",
    "# np.savetxt(outputm2f, DataOutm2f, fmt=('%5.3e','%5.3e'))\n"
   ]
  },
  {
   "cell_type": "code",
   "execution_count": null,
   "metadata": {},
   "outputs": [],
   "source": [
    "# masstoflux_mean,masstoflux_1quartile,masstoflux_3quartile = masstoflux_sigmaerror(radiusinpcformass,r_flatinpc,rc,n_flat,sigma_NT_C,index,l=19,k=1/2)\n",
    "\n",
    "\n"
   ]
  },
  {
   "cell_type": "code",
   "execution_count": null,
   "metadata": {},
   "outputs": [],
   "source": [
    "# mass2fluxk1_1quatile = []\n",
    "# mass2fluxk1_mean = []\n",
    "# mass2fluxk1_3quatile = []\n",
    "\n",
    "# mass2fluxk2_1quatile = []\n",
    "# mass2fluxk2_mean = []\n",
    "# mass2fluxk2_3quatile = []\n",
    "\n",
    "\n",
    "# # radius = np.linspace(0,0.06,N)\n",
    "# # r = []\n",
    "# # # for j in range(0, len(radiusinpc), 1):\n",
    "# #         r = radiusinpc[j]\n",
    "\n",
    "#         # k1 = 1/2\n",
    "# for l in range(1,N):\n",
    "#         print(\"for k =1/2\")\n",
    "#         masstoflux_meank1,masstoflux_1quartilek1,masstoflux_3quartilek1 = cfs.masstoflux_sigmaerror(radiusinpcformass,r_flatinpc,rc,n_flat,sigma_NT_C,index,Plummermodel_error,l,1/2)\n",
    "#         mass2fluxk1_1quatile_list = np.mean(masstoflux_1quartilek1)\n",
    "#         mass2fluxk1_1quatile.append(mass2fluxk1_1quatile_list)\n",
    "#         mass2fluxk1_mean_list = np.mean(masstoflux_meank1)\n",
    "#         mass2fluxk1_mean.append(mass2fluxk1_mean_list)\n",
    "#         mass2fluxk1_3quatile_list = np.mean(masstoflux_3quartilek1)\n",
    "#         mass2fluxk1_3quatile.append(mass2fluxk1_3quatile_list)\n",
    "        \n",
    "\n",
    "        \n",
    "#         # k2 = 2/3\n",
    "#         print(\"for k =2/3\")\n",
    "#         masstoflux_meank2,masstoflux_1quartilek2,masstoflux_3quartilek2 = cfs.masstoflux_sigmaerror(radiusinpcformass,r_flatinpc,rc,n_flat,sigma_NT_C,index,Plummermodel_error,l,2/3)\n",
    "#         mass2fluxk2_1quatile_list = np.mean(masstoflux_1quartilek2)\n",
    "#         mass2fluxk2_1quatile.append(mass2fluxk2_1quatile_list)\n",
    "#         mass2fluxk2_mean_list = np.mean(masstoflux_meank2)\n",
    "#         mass2fluxk2_mean.append(mass2fluxk2_mean_list)\n",
    "#         mass2fluxk2_3quatile_list = np.mean(masstoflux_3quartilek2)\n",
    "#         mass2fluxk2_3quatile.append(mass2fluxk2_3quatile_list)\n",
    "# DataOutk1 = np.column_stack((mass2fluxk1_1quatile,mass2fluxk1_mean,mass2fluxk1_3quatile))\n",
    "# DataOutk2 = np.column_stack((mass2fluxk2_1quatile,mass2fluxk2_mean,mass2fluxk2_3quatile))\n",
    "\n",
    "# np.savetxt(outputm2ferrorsk1, DataOutk1, fmt=('%5.3e', '%5.3e', '%5.3e'))   \n",
    "\n",
    "# np.savetxt(outputm2ferrorsk2, DataOutk2, fmt=('%5.3e', '%5.3e', '%5.3e'))       \n",
    "        "
   ]
  },
  {
   "cell_type": "code",
   "execution_count": null,
   "metadata": {},
   "outputs": [],
   "source": [
    "# mass2fluxk1_1quatile,mass2fluxk1_mean,mass2fluxk1_3quatile = cfs.readmasstofluxerror(outputm2ferrorsk1)\n",
    "# mass2fluxk2_1quatile,mass2fluxk2_mean,mass2fluxk2_3quatile = cfs.readmasstofluxerror(outputm2ferrorsk2)\n",
    "# plt.fill_between(radiusinpcformass[1:N], mass2fluxk1_1quatile,mass2fluxk1_3quatile,color = 'aqua', alpha=0.01,interpolate=True)\n",
    "# plt.plot(radiusinpcformass[1:N],m2fk1,'r--',label='k=1/2')\n",
    "# # plt.plot(radiusinpcformass[1:N],mass2fluxk1_mean,'r',label = r'$_{\\rm{mean}}\\, \\rm{for}\\, k =1/2$')\n",
    "\n",
    "# # plt.plot(radiusinpcformass[1:N],mass2fluxk1_1quatile,'g-.',label = 'k=1/2')\n",
    "# # plt.plot(radiusinpcformass[1:N],mass2fluxk1_3quatile,'g-.',label = 'k=1/2')\n",
    "# plt.plot(radiusinpcformass[1:N],m2fk2,'m--',label = 'k=2/3')\n",
    "# # plt.plot(radiusinpcformass[1:N],mass2fluxk2_mean,'m',label = r'$B_{\\rm{mean}}\\, \\rm{for}\\, k =1/2$')\n",
    "# plt.fill_between(radiusinpcformass[1:N], mass2fluxk2_1quatile,mass2fluxk2_3quatile,color = 'aquamarine', alpha=0.01,interpolate=True)\n",
    "# # plt.plot(radiusinpcformass[1:N],mass2fluxk2_1quatile,'k-.',label = 'k=2/3')\n",
    "# # plt.plot(radiusinpcformass[1:N],mass2fluxk2_3quatile,'k-.',label = 'k=2/3')\n",
    "# # plt.yscale(\"log\")\n",
    "# plt.ylim(0,3)\n",
    "# plt.legend(numpoints=1,fancybox=True,shadow=False,fontsize=11,loc=1)\n",
    "# plt.ylabel(r'$\\frac{M/\\Phi}{(M/\\Phi)_0}$', fontsize=15)\n",
    "# plt.xlabel(r'r (pc)',fontsize=15)\n",
    "# plt.text(0.004,2.5, r'$(\\sigma_{B}/B)_c=%.2f $ '%  beta,fontsize=15 )\n",
    "# plt.title(outputfilename +' mass-to-flux ratio') \n",
    "# outputfigurem2f = os.path.join(save_path2, outputfilename + 'mass2flux_error' +\".eps\")\n",
    "# plt.savefig(outputfigurem2f,format='eps',dpi=300)\n",
    "# plt.show()"
   ]
  },
  {
   "cell_type": "code",
   "execution_count": null,
   "metadata": {},
   "outputs": [],
   "source": [
    "print(len(radiusinpc))\n",
    "print(len(B1))"
   ]
  },
  {
   "cell_type": "code",
   "execution_count": null,
   "metadata": {},
   "outputs": [],
   "source": [
    "kineticenergy = []\n",
    "kineticnonthermal = []\n",
    "potentialenergy = []\n",
    "magneticenergy = []\n",
    "realmass_list = []\n",
    "radiusinpcforenergy  = radiusinpc[radiusinpc<=rc]\n",
    "for i in range(0,len(radiusinpcforenergy)):\n",
    "    m = mf.numericalmassforanyindex(radiusinpcforenergy,rc,r_flatinpc,n_flat,index,i)\n",
    "    realmass_list.append(float(m))\n",
    "    kinetic = m * (vnonthermal[i]**2+ vthermal[i]**2)*10**4  # to make sigma in cm**2/s\n",
    "    kineticenergy.append(float(kinetic))\n",
    "    kinetic_NT = m * (vnonthermal[i]**2)*10**4  # to make sigma in cm**2/s\n",
    "    kineticnonthermal.append(float(kinetic_NT))\n",
    "    potential = (3/5) * G * m**2 / (radiusinpcforenergy[i]*3.0857e+18)\n",
    "    potentialenergy.append(potential)\n",
    "    magnetic = ((B1[i]*10**-6)**2 *(radiusinpcforenergy[i]*3.0857e+18)**3) / 6\n",
    "    magneticenergy.append(magnetic)\n",
    "print(m)    \n",
    "Data_energy = np.column_stack((radiusinpcforenergy,kineticenergy,kineticnonthermal,potentialenergy,magneticenergy))\n",
    "\n",
    "np.savetxt(energydata_file,Data_energy, fmt=('%5.3e','%5.3e','%5.3e','%5.3e','%5.3e'))"
   ]
  },
  {
   "cell_type": "code",
   "execution_count": null,
   "metadata": {},
   "outputs": [],
   "source": [
    "print(total_mass/Msun)"
   ]
  },
  {
   "cell_type": "code",
   "execution_count": null,
   "metadata": {},
   "outputs": [],
   "source": [
    "mass_test = mf.totalmass(rc,r_flatinpc,n_flat,index)\n",
    "print(mass_test)"
   ]
  },
  {
   "cell_type": "code",
   "execution_count": null,
   "metadata": {},
   "outputs": [],
   "source": [
    "totalmass_1quartile,totalmass_3quartile = cfs.total_masserror(rc,r_flatinpc,n_flat,index,Plummermodel_error)"
   ]
  },
  {
   "cell_type": "code",
   "execution_count": null,
   "metadata": {},
   "outputs": [],
   "source": [
    "print(\"The mean mass is = \",np.mean(totalmass_1quartile)/Msun)\n",
    "print(\"The std deviation is = \",np.mean(totalmass_3quartile)/Msun)"
   ]
  },
  {
   "cell_type": "code",
   "execution_count": null,
   "metadata": {},
   "outputs": [],
   "source": [
    "# def total_masserror(rc_,r_flatinpc,n_flat,index,Plummermodel_error):\n",
    "'''\n",
    "Added 30 July 2018 \n",
    "This calculated the total mass of the cores which is assumed to be sphere\n",
    "\n",
    "\n",
    "Input are:\n",
    "\n",
    "r_c = is the transonic radius \n",
    "r_flatinpc  = r_0 or  r_flat in pc\n",
    "n_0 = n0 or nflat in cm^-3\n",
    "index =  the power of the density function\n",
    "\n",
    "mass = 4 pi mu (numerical integral)\n",
    "### Important to note that this gives mass in grams ###\n",
    "'''\n",
    "\n",
    "\n",
    "npts = 1000\n",
    "nsim = 100\n",
    "\n",
    "totalmassararay = []\n",
    "totalmass_mean = []\n",
    "totalmass_sigma =[]\n",
    "totalmass_1quartile =[]\n",
    "totalmass_3quartile =[]\n",
    "\n",
    "totalmass_interquatilerange = []\n",
    "\n",
    "eta_err = Plummermodel_error[0]\n",
    "r_0_err = Plummermodel_error[1]\n",
    "n_0_err = Plummermodel_error[2]\n",
    "\n",
    "for i in range (1, nsim):\n",
    "    r_c = rc + np.random.standard_normal((npts,))*0.1*rc ## added 10% variation to sigma_{NT} by hand \n",
    "    power= index + np.random.standard_normal((npts,))*eta_err\n",
    "    r_0 = r_flatinpc  + np.random.standard_normal((npts,))*r_0_err\n",
    "    n_0 = n_flat + np.random.standard_normal((npts,))*n_0_err\n",
    "\n",
    "    for j in range(0,npts):\n",
    "#         print(\"random intgration number\", j)\n",
    "        r0=r_0[j-1]\n",
    "        n0 = n_0[j-1]\n",
    "        rc_ = r_c[j-1]\n",
    "        pow = power[j-1]\n",
    "#           \n",
    "        totalmass= mf.totalmass(rc_,r0,n0,pow)\n",
    "        totalmassararay.append(totalmass)\n",
    "\n",
    "    totalmass_mean.append(np.mean(totalmassararay)) \n",
    "    totalmass_sigma.append(np.std(totalmassararay))\n",
    "    totalmass_1quartile.append(np.percentile(totalmassararay,25))\n",
    "    totalmass_3quartile.append(np.percentile(totalmassararay,75))\n",
    "    \n",
    "totalmass_interquatilerange = (np.asarray(totalmass_3quartile) - np.asarray(totalmass_1quartile))/(2*np.sqrt(2*np.log(2)))\n",
    "\n",
    "#totalmass_interquatilerange = (totalmass_3quartile - totalmass_1quartile)/2)\n",
    "\n",
    "#     print(masstoflux_mean,masstoflux_1quartile,masstoflux_3quartile)  \n",
    "\n",
    "#     return(totalmass_mean,totalmass_sigma)\n",
    "# return(totalmass_1quartile,totalmass_3quartile)\n",
    "\n"
   ]
  },
  {
   "cell_type": "code",
   "execution_count": null,
   "metadata": {},
   "outputs": [],
   "source": []
  },
  {
   "cell_type": "code",
   "execution_count": null,
   "metadata": {},
   "outputs": [],
   "source": [
    "print(np.std(totalmass_mean)/Msun)\n",
    "print(np.mean(totalmass_interquatilerange)/Msun)"
   ]
  },
  {
   "cell_type": "code",
   "execution_count": null,
   "metadata": {},
   "outputs": [],
   "source": [
    "print((np.percentile(totalmassararay,75)-np.percentile(totalmassararay,25))/2/Msun)"
   ]
  },
  {
   "cell_type": "code",
   "execution_count": null,
   "metadata": {},
   "outputs": [],
   "source": [
    "x = np.linspace(0,10,10)\n",
    "y = np.linspace(0,5,10)\n",
    "print((x-y)/2)"
   ]
  },
  {
   "cell_type": "code",
   "execution_count": null,
   "metadata": {},
   "outputs": [],
   "source": [
    "print(rc)"
   ]
  },
  {
   "cell_type": "code",
   "execution_count": null,
   "metadata": {},
   "outputs": [],
   "source": [
    " print(np.log(10))"
   ]
  },
  {
   "cell_type": "code",
   "execution_count": null,
   "metadata": {
    "collapsed": true
   },
   "outputs": [],
   "source": []
  }
 ],
 "metadata": {
  "kernelspec": {
   "display_name": "Python 3",
   "language": "python",
   "name": "python3"
  },
  "language_info": {
   "codemirror_mode": {
    "name": "ipython",
    "version": 3
   },
   "file_extension": ".py",
   "mimetype": "text/x-python",
   "name": "python",
   "nbconvert_exporter": "python",
   "pygments_lexer": "ipython3",
   "version": "3.6.6"
  }
 },
 "nbformat": 4,
 "nbformat_minor": 2
}
